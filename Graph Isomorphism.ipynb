{
 "cells": [
  {
   "cell_type": "markdown",
   "id": "f6129939",
   "metadata": {},
   "source": [
    "•\tExplanation of the Graph Isomorphism Problem."
   ]
  },
  {
   "cell_type": "code",
   "execution_count": null,
   "id": "161b8d3e",
   "metadata": {},
   "outputs": [],
   "source": []
  },
  {
   "cell_type": "markdown",
   "id": "b800c6e1",
   "metadata": {},
   "source": [
    "•\tExplanation of how graphs can be represented in data structures."
   ]
  },
  {
   "cell_type": "code",
   "execution_count": null,
   "id": "c40d90c3",
   "metadata": {},
   "outputs": [],
   "source": []
  },
  {
   "cell_type": "markdown",
   "id": "8c3a3b4d",
   "metadata": {},
   "source": [
    "•\tPython function implementing an algorithm to determine if two graphs are isomorphic or not."
   ]
  },
  {
   "cell_type": "code",
   "execution_count": null,
   "id": "98dbfb35",
   "metadata": {},
   "outputs": [],
   "source": []
  },
  {
   "cell_type": "markdown",
   "id": "b8eb6ea2",
   "metadata": {},
   "source": [
    "•\tDiscussion of the computational complexity of the Graph Isomorphism Problem."
   ]
  },
  {
   "cell_type": "code",
   "execution_count": null,
   "id": "c886fbda",
   "metadata": {},
   "outputs": [],
   "source": []
  }
 ],
 "metadata": {
  "kernelspec": {
   "display_name": "Python 3 (ipykernel)",
   "language": "python",
   "name": "python3"
  },
  "language_info": {
   "codemirror_mode": {
    "name": "ipython",
    "version": 3
   },
   "file_extension": ".py",
   "mimetype": "text/x-python",
   "name": "python",
   "nbconvert_exporter": "python",
   "pygments_lexer": "ipython3",
   "version": "3.9.7"
  }
 },
 "nbformat": 4,
 "nbformat_minor": 5
}
