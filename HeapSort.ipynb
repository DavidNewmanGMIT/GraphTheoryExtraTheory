{
 "cells": [
  {
   "attachments": {},
   "cell_type": "markdown",
   "id": "7e4d997a",
   "metadata": {},
   "source": [
    "## Heap Sort\n",
    "\n",
    "#### This Jupyter workbook contains information about Heap sorts\n",
    "\n",
    "Heap sort are a way to sort lists.\n",
    "\n",
    "Heap sort is a way in which we can sort a list of data, we do this using a heap and mapping it out with the max value starting at the top, we connect the rest of the list in a root like way, were each parent is connected but anything bellow can only have two to one connections, we then cycle through this until we have the smallest to largest going from the top of the heap to the bottom of the heap."
   ]
  },
  {
   "attachments": {
    "image-3.png": {
     "image/png": "[encoded data removed]"
    },
    "image-4.png": {
     "image/png": "[encoded data removed]"
    },
    "image-5.png": {
     "image/png": "[encoded data removed]"
    },
    "image.png": {
     "image/png": "[encoded data removed]"
    }
   },
   "cell_type": "markdown",
   "id": "a4b70483",
   "metadata": {
    "scrolled": false
   },
   "source": [
    "#### Heap Sort Algorithm\n",
    "\n",
    "What we first do with the algorithm is to create our max heap the top of the heap.\n",
    "\n",
    "we do this by finding the length of the list then and then getting the last data (last element) on the list\n",
    "\n",
    "![image.png](attachment:image.png)\n",
    "\n",
    "We then need to get the last parent that will be used for the heap, we do this by using the last element then doing a mod to by two to get the last parent\n",
    "\n",
    "![image-3.png](attachment:image-3.png)\n",
    "\n",
    "we then use a for loop to loop back through all the parents back to the top of the heap, inside the for loop we use the\n",
    "siftDown function to go back down the heap so that each parent is greater than its child and that they are connected correctly as to no have more than 2 children connect to a parent.\n",
    "\n",
    "![image-4.png](attachment:image-4.png)\n",
    "\n",
    "we then start sorting through the heap now the frame of it is in place, we use a for loop with siftDown to start swapping the top of the heap with the bottom of the heap if it is great than the bottom until everything is sorted.\n",
    "\n",
    "![image-5.png](attachment:image-5.png)\n",
    "\n",
    "\n"
   ]
  },
  {
   "cell_type": "markdown",
   "id": "bc6d3707",
   "metadata": {},
   "source": [
    "## Python function implementing Heap Sort."
   ]
  },
  {
   "cell_type": "code",
   "execution_count": 25,
   "id": "53ee90ae",
   "metadata": {},
   "outputs": [],
   "source": [
    "def siftDown(L, parent, end):\n",
    "    \n",
    "    # number of comparisons.\n",
    "    num_comparisons = 0\n",
    "    \n",
    "    # While parent is actually a parent (has at least a left child).\n",
    "    while 2*parent + 1 <= end:\n",
    "        # The indices of the children of parent.\n",
    "        lchild = 2 * parent + 1\n",
    "        rchild = 2 * parent + 2\n",
    "        \n",
    "        # Assume the parent is larger than the children.\n",
    "        swap = parent\n",
    "        # Is the parent smaller than the left child?\n",
    "        if L[swap] < L[lchild]:\n",
    "            # Then swap is set to index of left child.\n",
    "            swap = lchild\n",
    "            # Increment no_comparisons.\n",
    "            num_comparisons = num_comparisons + 1\n",
    "        # Check if right child exists and is smaller than L[swap].\n",
    "        if rchild <= end and L[swap] < L[rchild]:\n",
    "            # Then swap is set to index of right child.\n",
    "            swap = rchild\n",
    "            # Increment no_comparisons.\n",
    "            num_comparisons = num_comparisons + 1\n",
    "        # We have a max heap if the parent is bigger than the children.\n",
    "        if swap == parent:\n",
    "            break \n",
    "        else:\n",
    "            # Swap the parent with the bigger child.\n",
    "            L[parent], L[swap] = L[swap], L[parent]\n",
    "            # Set parent to bigger child's index.\n",
    "            parent = swap\n",
    "    \n",
    "    # Return the number of comparisons.\n",
    "    return num_comparisons"
   ]
  },
  {
   "cell_type": "code",
   "execution_count": 26,
   "id": "6e32435d",
   "metadata": {},
   "outputs": [],
   "source": [
    "def heapsort(L):\n",
    "    \"\"\"Sorts the list L in-place using Heap Sort.\"\"\"\n",
    "    \n",
    "    # Keep track of the number of comparisons.\n",
    "    num_comparisons = 0\n",
    "    \n",
    "    # Turn L into a max heap, with the highest number at the top of the heap\n",
    "    # Index of the last element, last element being the last data on the list\n",
    "    last_element = len(L) - 1\n",
    "    # Find the last parent, the last parent will be connected to the last 1 or 2 data on the list\n",
    "    last_parent = (last_element - 1) // 2\n",
    "    # Loop backwards through all parents. back up to the top of the heap\n",
    "    for parent in range(last_parent, -1, -1):\n",
    "        # Sift down. we then go down through the heap using the siftDown function\n",
    "        num_comparisons = num_comparisons + siftDown(L, parent, last_element)\n",
    "\n",
    "    # Once we have created the max and then last parent, then placed everything using siftDown\n",
    "    # we then cycle through grabbing the biggest data and sorting it to the bottom\n",
    "    # Segregate the list L into two parts:\n",
    "    #   1. L[:end] is a max heap\n",
    "    #   2. Each element beyond end is greater than everything before it.\n",
    "    # While there are still elements in the heap.\n",
    "    for end in range(last_element, 0, -1):\n",
    "        # Swap the element at index 0 with the element at index end.\n",
    "        L[0], L[end] = L[end], L[0]\n",
    "        # Fix the heap - the root is currently out of place.\n",
    "        num_comparisons = num_comparisons + siftDown(L, 0, end - 1)\n",
    "    \n",
    "    # Return the number of comparisons.\n",
    "    return num_comparisons"
   ]
  },
  {
   "cell_type": "code",
   "execution_count": 27,
   "id": "0ed7f3f7",
   "metadata": {},
   "outputs": [
    {
     "data": {
      "text/plain": [
       "[8, 16, 15, 4, 23, 100, 69, 42]"
      ]
     },
     "execution_count": 27,
     "metadata": {},
     "output_type": "execute_result"
    }
   ],
   "source": [
    "# List used as an example for the code\n",
    "L = [8, 16, 15, 4, 23, 100, 69, 42]\n",
    "L"
   ]
  },
  {
   "cell_type": "code",
   "execution_count": 28,
   "id": "b5c0b1ba",
   "metadata": {},
   "outputs": [
    {
     "data": {
      "text/plain": [
       "[4, 8, 15, 16, 23, 42, 69, 100]"
      ]
     },
     "execution_count": 28,
     "metadata": {},
     "output_type": "execute_result"
    }
   ],
   "source": [
    "# Show heap sort working.\n",
    "heapsort(L)\n",
    "L"
   ]
  },
  {
   "attachments": {},
   "cell_type": "markdown",
   "id": "be9810ab",
   "metadata": {},
   "source": [
    "### Heap Sort Complexity\n",
    "##### figures sourced from https://en.wikipedia.org/wiki/Heapsort\n",
    "\n",
    "In the worst case scenario the heap sort is \tO(n\\log n)\n",
    "\n",
    "and in the best case scenario its is O(n)"
   ]
  },
  {
   "cell_type": "markdown",
   "id": "a1744637",
   "metadata": {},
   "source": []
  }
 ],
 "metadata": {
  "kernelspec": {
   "display_name": "Python 3 (ipykernel)",
   "language": "python",
   "name": "python3"
  },
  "language_info": {
   "codemirror_mode": {
    "name": "ipython",
    "version": 3
   },
   "file_extension": ".py",
   "mimetype": "text/x-python",
   "name": "python",
   "nbconvert_exporter": "python",
   "pygments_lexer": "ipython3",
   "version": "3.9.7"
  }
 },
 "nbformat": 4,
 "nbformat_minor": 5
}
